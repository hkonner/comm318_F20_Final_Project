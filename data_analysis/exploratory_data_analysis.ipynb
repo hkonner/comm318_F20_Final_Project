{
 "cells": [
  {
   "cell_type": "markdown",
   "metadata": {},
   "source": [
    "# Initial Data Exploration for Neighborhood Food Retail & Walkable Access to Healthy Food\n",
    "\n",
    "### I aim to explore the inequality that restricts food access in Philadelphia \n",
    "\n",
    " #### Neighborhood Food Retail Dataset was published August 26, 2019\n",
    "> This dataset is derived from the Neighborhood Food Retail in\n",
    "       Philadelphia report. The report and accompanying online \n",
    "       resource gallery look at neighborhood availability of \"high-\n",
    "       produce supply stores” (e.g., supermarkets, produce stores, \n",
    "       farmers’ markets) in relation to “low-produce supply \n",
    "       stores” (like dollar stores, pharmacies, and convenience \n",
    "       stores).\n",
    "* https://www.opendataphilly.org/dataset/neighborhood-food-retail\n",
    "\n",
    "#### Philadelphia Food Access Dataset was published January 19, 2016\n",
    "> The version of this dataset contains only the city blocks \n",
    "       where there is low or no walkable access to healthy food and \n",
    "       high poverty.\n",
    "* https://www.opendataphilly.org/dataset/philadelphia-food-access\n",
    "       \n",
    "       \n",
    " ### Data\n",
    " * A CSV file"
   ]
  },
  {
   "cell_type": "markdown",
   "metadata": {},
   "source": [
    "## EDA NeighborhoodFoodRetail.csv"
   ]
  },
  {
   "cell_type": "markdown",
   "metadata": {},
   "source": [
    "I imported my data and began to explore the shape and labels of the columns"
   ]
  },
  {
   "cell_type": "code",
   "execution_count": 1,
   "metadata": {},
   "outputs": [],
   "source": [
    "import pandas as pd\n",
    "from matplotlib import pyplot as plt"
   ]
  },
  {
   "cell_type": "code",
   "execution_count": 2,
   "metadata": {},
   "outputs": [],
   "source": [
    "nfr_df = pd.read_csv(\"../data/NeighborhoodFoodRetail.csv\")"
   ]
  },
  {
   "cell_type": "code",
   "execution_count": 3,
   "metadata": {},
   "outputs": [
    {
     "data": {
      "text/plain": [
       "(1336, 16)"
      ]
     },
     "execution_count": 3,
     "metadata": {},
     "output_type": "execute_result"
    }
   ],
   "source": [
    "nfr_df.shape"
   ]
  },
  {
   "cell_type": "markdown",
   "metadata": {},
   "source": [
    "There are 1336 rows and 16 columns"
   ]
  },
  {
   "cell_type": "code",
   "execution_count": 4,
   "metadata": {},
   "outputs": [
    {
     "name": "stdout",
     "output_type": "stream",
     "text": [
      "<class 'pandas.core.frame.DataFrame'>\n",
      "RangeIndex: 1336 entries, 0 to 1335\n",
      "Data columns (total 16 columns):\n",
      " #   Column                    Non-Null Count  Dtype  \n",
      "---  ------                    --------------  -----  \n",
      " 0   OBJECTID                  1336 non-null   int64  \n",
      " 1   GEOID10                   1336 non-null   int64  \n",
      " 2   NON_RESIDENTIAL           1336 non-null   object \n",
      " 3   TOTAL_LPSS                1325 non-null   float64\n",
      " 4   LPSS_PER1000              1325 non-null   float64\n",
      " 5   TOTAL_HPSS                1325 non-null   float64\n",
      " 6   HPSS_PER1000              1325 non-null   float64\n",
      " 7   PCT_HPSS                  1325 non-null   float64\n",
      " 8   HPSS_ACCESS               1325 non-null   object \n",
      " 9   SUPERMARKET_ACCESS        1325 non-null   object \n",
      " 10  PCT_VEHICLE_AVAILABILITY  1326 non-null   float64\n",
      " 11  TOTAL_RESTAURANTS         1336 non-null   int64  \n",
      " 12  PCT_POVERTY               1327 non-null   float64\n",
      " 13  HIGH_POVERTY              1327 non-null   object \n",
      " 14  Shape__Area               1336 non-null   float64\n",
      " 15  Shape__Length             1336 non-null   float64\n",
      "dtypes: float64(9), int64(3), object(4)\n",
      "memory usage: 167.1+ KB\n"
     ]
    }
   ],
   "source": [
    "nfr_df.info()"
   ]
  },
  {
   "cell_type": "code",
   "execution_count": 5,
   "metadata": {},
   "outputs": [],
   "source": [
    "column_mapping = {\"HIGH_POVERTY\" : \"high_poverty\", \"HPSS_ACCESS\": \"high_produce_access\", \n",
    "                 \"HPSS_PER1000\" : \"high_produce_stores_per_thousand\", \n",
    "                  \"LPSS_PER1000\": \"low_produce_stores_per_thousand\", \"NON_RESIDENTIAL\" : \"no_residents\", \n",
    "                  \"PCT_HPSS\" : \"percent_high_produce_stores_half_mile\", \"PCT_POVERTY\" : \"percentage_poverty\", \n",
    "                  \"PCT_VEHICLE_AVAILABILITY\" : \"percent_vehicle_available\", \"SUPERMARKET_ACCESS\" : \"supermarket_access\", \n",
    "                 \"TOTAL_HPSS\" : \"total_high_produce_stores_half_mile\", \"TOTAL_LPSS\" : \"total_low_produce_stores_half_mile\", \n",
    "                 \"TOTAL_RESTAURANTS\" : \"total_restaurants\"}\n",
    "nfr_df.rename(columns=column_mapping, inplace=True)"
   ]
  },
  {
   "cell_type": "markdown",
   "metadata": {},
   "source": [
    "I chose to look closely at \"Percentage Poverty\" from all the columns above because it seems extremely relevant to my research and data analysis."
   ]
  },
  {
   "cell_type": "code",
   "execution_count": 6,
   "metadata": {},
   "outputs": [
    {
     "data": {
      "text/html": [
       "<div>\n",
       "<style scoped>\n",
       "    .dataframe tbody tr th:only-of-type {\n",
       "        vertical-align: middle;\n",
       "    }\n",
       "\n",
       "    .dataframe tbody tr th {\n",
       "        vertical-align: top;\n",
       "    }\n",
       "\n",
       "    .dataframe thead th {\n",
       "        text-align: right;\n",
       "    }\n",
       "</style>\n",
       "<table border=\"1\" class=\"dataframe\">\n",
       "  <thead>\n",
       "    <tr style=\"text-align: right;\">\n",
       "      <th></th>\n",
       "      <th>percentage_poverty</th>\n",
       "    </tr>\n",
       "  </thead>\n",
       "  <tbody>\n",
       "    <tr>\n",
       "      <th>count</th>\n",
       "      <td>1327.000000</td>\n",
       "    </tr>\n",
       "    <tr>\n",
       "      <th>mean</th>\n",
       "      <td>26.520875</td>\n",
       "    </tr>\n",
       "    <tr>\n",
       "      <th>std</th>\n",
       "      <td>18.830053</td>\n",
       "    </tr>\n",
       "    <tr>\n",
       "      <th>min</th>\n",
       "      <td>0.000000</td>\n",
       "    </tr>\n",
       "    <tr>\n",
       "      <th>25%</th>\n",
       "      <td>11.043445</td>\n",
       "    </tr>\n",
       "    <tr>\n",
       "      <th>50%</th>\n",
       "      <td>22.905028</td>\n",
       "    </tr>\n",
       "    <tr>\n",
       "      <th>75%</th>\n",
       "      <td>39.300387</td>\n",
       "    </tr>\n",
       "    <tr>\n",
       "      <th>max</th>\n",
       "      <td>92.452830</td>\n",
       "    </tr>\n",
       "  </tbody>\n",
       "</table>\n",
       "</div>"
      ],
      "text/plain": [
       "       percentage_poverty\n",
       "count         1327.000000\n",
       "mean            26.520875\n",
       "std             18.830053\n",
       "min              0.000000\n",
       "25%             11.043445\n",
       "50%             22.905028\n",
       "75%             39.300387\n",
       "max             92.452830"
      ]
     },
     "execution_count": 6,
     "metadata": {},
     "output_type": "execute_result"
    }
   ],
   "source": [
    "nfr_df[[\"percentage_poverty\"]].describe()"
   ]
  },
  {
   "cell_type": "markdown",
   "metadata": {},
   "source": [
    "The maximum percent of people in poverty is 92.45% for a given area"
   ]
  },
  {
   "cell_type": "code",
   "execution_count": 7,
   "metadata": {},
   "outputs": [
    {
     "data": {
      "text/html": [
       "<div>\n",
       "<style scoped>\n",
       "    .dataframe tbody tr th:only-of-type {\n",
       "        vertical-align: middle;\n",
       "    }\n",
       "\n",
       "    .dataframe tbody tr th {\n",
       "        vertical-align: top;\n",
       "    }\n",
       "\n",
       "    .dataframe thead th {\n",
       "        text-align: right;\n",
       "    }\n",
       "</style>\n",
       "<table border=\"1\" class=\"dataframe\">\n",
       "  <thead>\n",
       "    <tr style=\"text-align: right;\">\n",
       "      <th></th>\n",
       "      <th>high_poverty</th>\n",
       "    </tr>\n",
       "  </thead>\n",
       "  <tbody>\n",
       "    <tr>\n",
       "      <th>count</th>\n",
       "      <td>1327</td>\n",
       "    </tr>\n",
       "    <tr>\n",
       "      <th>unique</th>\n",
       "      <td>2</td>\n",
       "    </tr>\n",
       "    <tr>\n",
       "      <th>top</th>\n",
       "      <td>Yes</td>\n",
       "    </tr>\n",
       "    <tr>\n",
       "      <th>freq</th>\n",
       "      <td>740</td>\n",
       "    </tr>\n",
       "  </tbody>\n",
       "</table>\n",
       "</div>"
      ],
      "text/plain": [
       "       high_poverty\n",
       "count          1327\n",
       "unique            2\n",
       "top             Yes\n",
       "freq            740"
      ]
     },
     "execution_count": 7,
     "metadata": {},
     "output_type": "execute_result"
    }
   ],
   "source": [
    "nfr_df[[\"high_poverty\"]].describe()"
   ]
  },
  {
   "cell_type": "markdown",
   "metadata": {},
   "source": [
    "Of the 1327 geolocations 740 of them are \"yes\" and therefore living in high poverty"
   ]
  },
  {
   "cell_type": "code",
   "execution_count": 8,
   "metadata": {},
   "outputs": [
    {
     "data": {
      "text/plain": [
       "740"
      ]
     },
     "execution_count": 8,
     "metadata": {},
     "output_type": "execute_result"
    }
   ],
   "source": [
    "(nfr_df[\"high_poverty\"] == \"Yes\").sum()"
   ]
  },
  {
   "cell_type": "markdown",
   "metadata": {},
   "source": [
    "740 geolocations living in high poverty is an extremely disheartening number"
   ]
  },
  {
   "cell_type": "code",
   "execution_count": 9,
   "metadata": {},
   "outputs": [
    {
     "data": {
      "text/html": [
       "<div>\n",
       "<style scoped>\n",
       "    .dataframe tbody tr th:only-of-type {\n",
       "        vertical-align: middle;\n",
       "    }\n",
       "\n",
       "    .dataframe tbody tr th {\n",
       "        vertical-align: top;\n",
       "    }\n",
       "\n",
       "    .dataframe thead th {\n",
       "        text-align: right;\n",
       "    }\n",
       "</style>\n",
       "<table border=\"1\" class=\"dataframe\">\n",
       "  <thead>\n",
       "    <tr style=\"text-align: right;\">\n",
       "      <th></th>\n",
       "      <th>OBJECTID</th>\n",
       "      <th>GEOID10</th>\n",
       "      <th>no_residents</th>\n",
       "      <th>total_low_produce_stores_half_mile</th>\n",
       "      <th>low_produce_stores_per_thousand</th>\n",
       "      <th>total_high_produce_stores_half_mile</th>\n",
       "      <th>high_produce_stores_per_thousand</th>\n",
       "      <th>percent_high_produce_stores_half_mile</th>\n",
       "      <th>high_produce_access</th>\n",
       "      <th>supermarket_access</th>\n",
       "      <th>percent_vehicle_available</th>\n",
       "      <th>total_restaurants</th>\n",
       "      <th>percentage_poverty</th>\n",
       "      <th>high_poverty</th>\n",
       "      <th>Shape__Area</th>\n",
       "      <th>Shape__Length</th>\n",
       "    </tr>\n",
       "  </thead>\n",
       "  <tbody>\n",
       "    <tr>\n",
       "      <th>0</th>\n",
       "      <td>1</td>\n",
       "      <td>421010108001</td>\n",
       "      <td>No</td>\n",
       "      <td>25.0</td>\n",
       "      <td>30.674847</td>\n",
       "      <td>2.50</td>\n",
       "      <td>3.067485</td>\n",
       "      <td>9.090909</td>\n",
       "      <td>Moderate or High Access</td>\n",
       "      <td>Yes</td>\n",
       "      <td>44.268775</td>\n",
       "      <td>0</td>\n",
       "      <td>54.969325</td>\n",
       "      <td>Yes</td>\n",
       "      <td>275942.097656</td>\n",
       "      <td>3260.316044</td>\n",
       "    </tr>\n",
       "    <tr>\n",
       "      <th>1</th>\n",
       "      <td>2</td>\n",
       "      <td>421010108002</td>\n",
       "      <td>No</td>\n",
       "      <td>21.0</td>\n",
       "      <td>28.806584</td>\n",
       "      <td>1.75</td>\n",
       "      <td>2.400549</td>\n",
       "      <td>7.692308</td>\n",
       "      <td>Moderate or High Access</td>\n",
       "      <td>Yes</td>\n",
       "      <td>67.611336</td>\n",
       "      <td>2</td>\n",
       "      <td>37.860082</td>\n",
       "      <td>Yes</td>\n",
       "      <td>176880.882812</td>\n",
       "      <td>1736.152373</td>\n",
       "    </tr>\n",
       "    <tr>\n",
       "      <th>2</th>\n",
       "      <td>3</td>\n",
       "      <td>421010109002</td>\n",
       "      <td>No</td>\n",
       "      <td>7.0</td>\n",
       "      <td>17.114914</td>\n",
       "      <td>0.50</td>\n",
       "      <td>1.222494</td>\n",
       "      <td>6.666667</td>\n",
       "      <td>Low Access</td>\n",
       "      <td>No</td>\n",
       "      <td>37.356322</td>\n",
       "      <td>1</td>\n",
       "      <td>57.212714</td>\n",
       "      <td>Yes</td>\n",
       "      <td>74520.027344</td>\n",
       "      <td>1211.853466</td>\n",
       "    </tr>\n",
       "    <tr>\n",
       "      <th>3</th>\n",
       "      <td>4</td>\n",
       "      <td>421010110002</td>\n",
       "      <td>No</td>\n",
       "      <td>15.0</td>\n",
       "      <td>19.480519</td>\n",
       "      <td>2.75</td>\n",
       "      <td>3.571429</td>\n",
       "      <td>15.492958</td>\n",
       "      <td>Moderate or High Access</td>\n",
       "      <td>Yes</td>\n",
       "      <td>52.824859</td>\n",
       "      <td>0</td>\n",
       "      <td>19.480519</td>\n",
       "      <td>No</td>\n",
       "      <td>185771.992188</td>\n",
       "      <td>2057.362419</td>\n",
       "    </tr>\n",
       "    <tr>\n",
       "      <th>4</th>\n",
       "      <td>5</td>\n",
       "      <td>421010110001</td>\n",
       "      <td>No</td>\n",
       "      <td>17.0</td>\n",
       "      <td>25.914634</td>\n",
       "      <td>2.50</td>\n",
       "      <td>3.810976</td>\n",
       "      <td>12.820513</td>\n",
       "      <td>Moderate or High Access</td>\n",
       "      <td>Yes</td>\n",
       "      <td>70.408163</td>\n",
       "      <td>1</td>\n",
       "      <td>52.134146</td>\n",
       "      <td>Yes</td>\n",
       "      <td>242486.906250</td>\n",
       "      <td>4166.159591</td>\n",
       "    </tr>\n",
       "  </tbody>\n",
       "</table>\n",
       "</div>"
      ],
      "text/plain": [
       "   OBJECTID       GEOID10 no_residents  total_low_produce_stores_half_mile  \\\n",
       "0         1  421010108001           No                                25.0   \n",
       "1         2  421010108002           No                                21.0   \n",
       "2         3  421010109002           No                                 7.0   \n",
       "3         4  421010110002           No                                15.0   \n",
       "4         5  421010110001           No                                17.0   \n",
       "\n",
       "   low_produce_stores_per_thousand  total_high_produce_stores_half_mile  \\\n",
       "0                        30.674847                                 2.50   \n",
       "1                        28.806584                                 1.75   \n",
       "2                        17.114914                                 0.50   \n",
       "3                        19.480519                                 2.75   \n",
       "4                        25.914634                                 2.50   \n",
       "\n",
       "   high_produce_stores_per_thousand  percent_high_produce_stores_half_mile  \\\n",
       "0                          3.067485                               9.090909   \n",
       "1                          2.400549                               7.692308   \n",
       "2                          1.222494                               6.666667   \n",
       "3                          3.571429                              15.492958   \n",
       "4                          3.810976                              12.820513   \n",
       "\n",
       "       high_produce_access supermarket_access  percent_vehicle_available  \\\n",
       "0  Moderate or High Access                Yes                  44.268775   \n",
       "1  Moderate or High Access                Yes                  67.611336   \n",
       "2               Low Access                 No                  37.356322   \n",
       "3  Moderate or High Access                Yes                  52.824859   \n",
       "4  Moderate or High Access                Yes                  70.408163   \n",
       "\n",
       "   total_restaurants  percentage_poverty high_poverty    Shape__Area  \\\n",
       "0                  0           54.969325          Yes  275942.097656   \n",
       "1                  2           37.860082          Yes  176880.882812   \n",
       "2                  1           57.212714          Yes   74520.027344   \n",
       "3                  0           19.480519           No  185771.992188   \n",
       "4                  1           52.134146          Yes  242486.906250   \n",
       "\n",
       "   Shape__Length  \n",
       "0    3260.316044  \n",
       "1    1736.152373  \n",
       "2    1211.853466  \n",
       "3    2057.362419  \n",
       "4    4166.159591  "
      ]
     },
     "execution_count": 9,
     "metadata": {},
     "output_type": "execute_result"
    }
   ],
   "source": [
    "nfr_df.head()"
   ]
  },
  {
   "cell_type": "markdown",
   "metadata": {},
   "source": [
    "Supermarket Access was another relevant column I decided to explore further, as supermarket access goes hand in hand with poverty and can lead to food insecurity if access is not available."
   ]
  },
  {
   "cell_type": "code",
   "execution_count": 10,
   "metadata": {},
   "outputs": [
    {
     "data": {
      "text/html": [
       "<div>\n",
       "<style scoped>\n",
       "    .dataframe tbody tr th:only-of-type {\n",
       "        vertical-align: middle;\n",
       "    }\n",
       "\n",
       "    .dataframe tbody tr th {\n",
       "        vertical-align: top;\n",
       "    }\n",
       "\n",
       "    .dataframe thead th {\n",
       "        text-align: right;\n",
       "    }\n",
       "</style>\n",
       "<table border=\"1\" class=\"dataframe\">\n",
       "  <thead>\n",
       "    <tr style=\"text-align: right;\">\n",
       "      <th></th>\n",
       "      <th>supermarket_access</th>\n",
       "    </tr>\n",
       "  </thead>\n",
       "  <tbody>\n",
       "    <tr>\n",
       "      <th>count</th>\n",
       "      <td>1325</td>\n",
       "    </tr>\n",
       "    <tr>\n",
       "      <th>unique</th>\n",
       "      <td>2</td>\n",
       "    </tr>\n",
       "    <tr>\n",
       "      <th>top</th>\n",
       "      <td>Yes</td>\n",
       "    </tr>\n",
       "    <tr>\n",
       "      <th>freq</th>\n",
       "      <td>1052</td>\n",
       "    </tr>\n",
       "  </tbody>\n",
       "</table>\n",
       "</div>"
      ],
      "text/plain": [
       "       supermarket_access\n",
       "count                1325\n",
       "unique                  2\n",
       "top                   Yes\n",
       "freq                 1052"
      ]
     },
     "execution_count": 10,
     "metadata": {},
     "output_type": "execute_result"
    }
   ],
   "source": [
    "nfr_df[[\"supermarket_access\"]].describe()"
   ]
  },
  {
   "cell_type": "markdown",
   "metadata": {},
   "source": [
    "of the 1325 geolocations 1052 have supermarket acess"
   ]
  },
  {
   "cell_type": "markdown",
   "metadata": {},
   "source": [
    "##### Histogram of percent poverty"
   ]
  },
  {
   "cell_type": "code",
   "execution_count": 11,
   "metadata": {},
   "outputs": [],
   "source": [
    "#nfr_df.hist(column='percentage_poverty')\n",
    "#plt.xlabel(\"percent poverty\")\n",
    "#plt.ylabel(\"number of geolocations\")"
   ]
  },
  {
   "cell_type": "markdown",
   "metadata": {},
   "source": [
    "This looks like a triangular distribution with parameter C located at 0"
   ]
  },
  {
   "cell_type": "code",
   "execution_count": 12,
   "metadata": {
    "scrolled": true
   },
   "outputs": [
    {
     "data": {
      "text/html": [
       "<div>\n",
       "<style scoped>\n",
       "    .dataframe tbody tr th:only-of-type {\n",
       "        vertical-align: middle;\n",
       "    }\n",
       "\n",
       "    .dataframe tbody tr th {\n",
       "        vertical-align: top;\n",
       "    }\n",
       "\n",
       "    .dataframe thead th {\n",
       "        text-align: right;\n",
       "    }\n",
       "</style>\n",
       "<table border=\"1\" class=\"dataframe\">\n",
       "  <thead>\n",
       "    <tr style=\"text-align: right;\">\n",
       "      <th></th>\n",
       "      <th>percentage_poverty</th>\n",
       "      <th>percentage_poverty_range</th>\n",
       "    </tr>\n",
       "  </thead>\n",
       "  <tbody>\n",
       "    <tr>\n",
       "      <th>0</th>\n",
       "      <td>54.969325</td>\n",
       "      <td>50-59%</td>\n",
       "    </tr>\n",
       "    <tr>\n",
       "      <th>1</th>\n",
       "      <td>37.860082</td>\n",
       "      <td>30-39%</td>\n",
       "    </tr>\n",
       "    <tr>\n",
       "      <th>2</th>\n",
       "      <td>57.212714</td>\n",
       "      <td>50-59%</td>\n",
       "    </tr>\n",
       "    <tr>\n",
       "      <th>3</th>\n",
       "      <td>19.480519</td>\n",
       "      <td>10-19%</td>\n",
       "    </tr>\n",
       "    <tr>\n",
       "      <th>4</th>\n",
       "      <td>52.134146</td>\n",
       "      <td>50-59%</td>\n",
       "    </tr>\n",
       "    <tr>\n",
       "      <th>5</th>\n",
       "      <td>80.952381</td>\n",
       "      <td>80-89%</td>\n",
       "    </tr>\n",
       "    <tr>\n",
       "      <th>6</th>\n",
       "      <td>55.660377</td>\n",
       "      <td>50-59%</td>\n",
       "    </tr>\n",
       "    <tr>\n",
       "      <th>7</th>\n",
       "      <td>8.139535</td>\n",
       "      <td>0-9%</td>\n",
       "    </tr>\n",
       "    <tr>\n",
       "      <th>8</th>\n",
       "      <td>15.879017</td>\n",
       "      <td>10-19%</td>\n",
       "    </tr>\n",
       "    <tr>\n",
       "      <th>9</th>\n",
       "      <td>57.761733</td>\n",
       "      <td>50-59%</td>\n",
       "    </tr>\n",
       "  </tbody>\n",
       "</table>\n",
       "</div>"
      ],
      "text/plain": [
       "   percentage_poverty percentage_poverty_range\n",
       "0           54.969325                   50-59%\n",
       "1           37.860082                   30-39%\n",
       "2           57.212714                   50-59%\n",
       "3           19.480519                   10-19%\n",
       "4           52.134146                   50-59%\n",
       "5           80.952381                   80-89%\n",
       "6           55.660377                   50-59%\n",
       "7            8.139535                     0-9%\n",
       "8           15.879017                   10-19%\n",
       "9           57.761733                   50-59%"
      ]
     },
     "execution_count": 12,
     "metadata": {},
     "output_type": "execute_result"
    }
   ],
   "source": [
    "# I defined the list of cut points for the values you want to assign to ranges\n",
    "cutpoints = range(0,101,10)\n",
    "\n",
    "# and a corresponding list of labels for each range\n",
    "labels = [\"{}-{}%\".format(i,i+9) for i in range(0,100,10)]\n",
    "\n",
    "# then added a new column that is the result of using the pd.cut() function\n",
    "nfr_df['percentage_poverty_range']=pd.cut(nfr_df['percentage_poverty'], bins=cutpoints, labels=labels)\n",
    "\n",
    "nfr_df[['percentage_poverty', 'percentage_poverty_range']].head(10)"
   ]
  },
  {
   "cell_type": "code",
   "execution_count": 13,
   "metadata": {},
   "outputs": [],
   "source": [
    "poverty_dist_series = nfr_df['percentage_poverty_range'].value_counts().sort_index()"
   ]
  },
  {
   "cell_type": "code",
   "execution_count": 14,
   "metadata": {},
   "outputs": [],
   "source": [
    "type(poverty_dist_series)\n",
    "poverty_dist_df = pd.DataFrame({'poverty_range':poverty_dist_series.index, 'ct':poverty_dist_series.values})"
   ]
  },
  {
   "cell_type": "code",
   "execution_count": 15,
   "metadata": {},
   "outputs": [
    {
     "data": {
      "text/html": [
       "<div>\n",
       "<style scoped>\n",
       "    .dataframe tbody tr th:only-of-type {\n",
       "        vertical-align: middle;\n",
       "    }\n",
       "\n",
       "    .dataframe tbody tr th {\n",
       "        vertical-align: top;\n",
       "    }\n",
       "\n",
       "    .dataframe thead th {\n",
       "        text-align: right;\n",
       "    }\n",
       "</style>\n",
       "<table border=\"1\" class=\"dataframe\">\n",
       "  <thead>\n",
       "    <tr style=\"text-align: right;\">\n",
       "      <th></th>\n",
       "      <th>poverty_range</th>\n",
       "      <th>ct</th>\n",
       "    </tr>\n",
       "  </thead>\n",
       "  <tbody>\n",
       "    <tr>\n",
       "      <th>0</th>\n",
       "      <td>0-9%</td>\n",
       "      <td>276</td>\n",
       "    </tr>\n",
       "    <tr>\n",
       "      <th>1</th>\n",
       "      <td>10-19%</td>\n",
       "      <td>289</td>\n",
       "    </tr>\n",
       "    <tr>\n",
       "      <th>2</th>\n",
       "      <td>20-29%</td>\n",
       "      <td>245</td>\n",
       "    </tr>\n",
       "    <tr>\n",
       "      <th>3</th>\n",
       "      <td>30-39%</td>\n",
       "      <td>179</td>\n",
       "    </tr>\n",
       "    <tr>\n",
       "      <th>4</th>\n",
       "      <td>40-49%</td>\n",
       "      <td>147</td>\n",
       "    </tr>\n",
       "    <tr>\n",
       "      <th>5</th>\n",
       "      <td>50-59%</td>\n",
       "      <td>89</td>\n",
       "    </tr>\n",
       "    <tr>\n",
       "      <th>6</th>\n",
       "      <td>60-69%</td>\n",
       "      <td>52</td>\n",
       "    </tr>\n",
       "    <tr>\n",
       "      <th>7</th>\n",
       "      <td>70-79%</td>\n",
       "      <td>17</td>\n",
       "    </tr>\n",
       "    <tr>\n",
       "      <th>8</th>\n",
       "      <td>80-89%</td>\n",
       "      <td>10</td>\n",
       "    </tr>\n",
       "    <tr>\n",
       "      <th>9</th>\n",
       "      <td>90-99%</td>\n",
       "      <td>1</td>\n",
       "    </tr>\n",
       "  </tbody>\n",
       "</table>\n",
       "</div>"
      ],
      "text/plain": [
       "  poverty_range   ct\n",
       "0          0-9%  276\n",
       "1        10-19%  289\n",
       "2        20-29%  245\n",
       "3        30-39%  179\n",
       "4        40-49%  147\n",
       "5        50-59%   89\n",
       "6        60-69%   52\n",
       "7        70-79%   17\n",
       "8        80-89%   10\n",
       "9        90-99%    1"
      ]
     },
     "execution_count": 15,
     "metadata": {},
     "output_type": "execute_result"
    }
   ],
   "source": [
    "poverty_dist_df"
   ]
  },
  {
   "cell_type": "code",
   "execution_count": 16,
   "metadata": {},
   "outputs": [
    {
     "data": {
      "text/plain": [
       "Text(0, 0.5, 'number of geolocations')"
      ]
     },
     "execution_count": 16,
     "metadata": {},
     "output_type": "execute_result"
    },
    {
     "data": {
      "image/png": "[encoded data removed]",
      "text/plain": [
       "<Figure size 432x288 with 1 Axes>"
      ]
     },
     "metadata": {
      "needs_background": "light"
     },
     "output_type": "display_data"
    }
   ],
   "source": [
    "poverty_dist_df.plot.bar(x='poverty_range', y='ct')\n",
    "plt.xlabel(\"percentage poverty range\")\n",
    "plt.ylabel(\"number of geolocations\")"
   ]
  },
  {
   "cell_type": "markdown",
   "metadata": {},
   "source": [
    "This histogram shows percentage of poverty with number of geolocations that have residents falling in that poverty percentage. Most geolocations have a 10-19% poverty level, which by the numbers seems good but that means one or two in every ten families are living in poverty and are likely unable to feed or properly care for their children."
   ]
  },
  {
   "cell_type": "markdown",
   "metadata": {},
   "source": [
    "## EDA Walkable_Access_Healthy_Food.csv"
   ]
  },
  {
   "cell_type": "markdown",
   "metadata": {},
   "source": [
    "Walkable Access to healthy food was an important data set because many people in Philadelphia do not have personal vehicles and rely on walking or public transportation."
   ]
  },
  {
   "cell_type": "code",
   "execution_count": 17,
   "metadata": {},
   "outputs": [],
   "source": [
    "wahf_df = pd.read_csv(\"../data/Walkable_Access_Healthy_Food.csv\")"
   ]
  },
  {
   "cell_type": "code",
   "execution_count": 18,
   "metadata": {},
   "outputs": [
    {
     "data": {
      "text/plain": [
       "(18872, 5)"
      ]
     },
     "execution_count": 18,
     "metadata": {},
     "output_type": "execute_result"
    }
   ],
   "source": [
    "wahf_df.shape"
   ]
  },
  {
   "cell_type": "markdown",
   "metadata": {},
   "source": [
    "There are 5 columns and 18872 rows"
   ]
  },
  {
   "cell_type": "code",
   "execution_count": 19,
   "metadata": {},
   "outputs": [
    {
     "name": "stdout",
     "output_type": "stream",
     "text": [
      "<class 'pandas.core.frame.DataFrame'>\n",
      "RangeIndex: 18872 entries, 0 to 18871\n",
      "Data columns (total 5 columns):\n",
      " #   Column         Non-Null Count  Dtype  \n",
      "---  ------         --------------  -----  \n",
      " 0   OBJECTID       18872 non-null  int64  \n",
      " 1   GEOID          18872 non-null  int64  \n",
      " 2   ACCESS_        18872 non-null  object \n",
      " 3   Shape__Area    18872 non-null  float64\n",
      " 4   Shape__Length  18872 non-null  float64\n",
      "dtypes: float64(2), int64(2), object(1)\n",
      "memory usage: 737.3+ KB\n"
     ]
    }
   ],
   "source": [
    "wahf_df.info()"
   ]
  },
  {
   "cell_type": "code",
   "execution_count": 20,
   "metadata": {},
   "outputs": [
    {
     "data": {
      "text/html": [
       "<div>\n",
       "<style scoped>\n",
       "    .dataframe tbody tr th:only-of-type {\n",
       "        vertical-align: middle;\n",
       "    }\n",
       "\n",
       "    .dataframe tbody tr th {\n",
       "        vertical-align: top;\n",
       "    }\n",
       "\n",
       "    .dataframe thead th {\n",
       "        text-align: right;\n",
       "    }\n",
       "</style>\n",
       "<table border=\"1\" class=\"dataframe\">\n",
       "  <thead>\n",
       "    <tr style=\"text-align: right;\">\n",
       "      <th></th>\n",
       "      <th>OBJECTID</th>\n",
       "      <th>GEOID</th>\n",
       "      <th>ACCESS_</th>\n",
       "      <th>Shape__Area</th>\n",
       "      <th>Shape__Length</th>\n",
       "    </tr>\n",
       "  </thead>\n",
       "  <tbody>\n",
       "    <tr>\n",
       "      <th>0</th>\n",
       "      <td>1</td>\n",
       "      <td>421010378001037</td>\n",
       "      <td>No Access</td>\n",
       "      <td>2.117942e+06</td>\n",
       "      <td>8830.039023</td>\n",
       "    </tr>\n",
       "    <tr>\n",
       "      <th>1</th>\n",
       "      <td>2</td>\n",
       "      <td>421019800001053</td>\n",
       "      <td>No Access</td>\n",
       "      <td>5.803100e+06</td>\n",
       "      <td>9418.832796</td>\n",
       "    </tr>\n",
       "    <tr>\n",
       "      <th>2</th>\n",
       "      <td>3</td>\n",
       "      <td>421019800001164</td>\n",
       "      <td>No Access</td>\n",
       "      <td>5.994356e+05</td>\n",
       "      <td>9793.030362</td>\n",
       "    </tr>\n",
       "    <tr>\n",
       "      <th>3</th>\n",
       "      <td>4</td>\n",
       "      <td>421010369002011</td>\n",
       "      <td>No Access</td>\n",
       "      <td>1.186508e+06</td>\n",
       "      <td>6529.555121</td>\n",
       "    </tr>\n",
       "    <tr>\n",
       "      <th>4</th>\n",
       "      <td>5</td>\n",
       "      <td>421010170001005</td>\n",
       "      <td>No Access</td>\n",
       "      <td>2.291195e+06</td>\n",
       "      <td>7011.517275</td>\n",
       "    </tr>\n",
       "  </tbody>\n",
       "</table>\n",
       "</div>"
      ],
      "text/plain": [
       "   OBJECTID            GEOID    ACCESS_   Shape__Area  Shape__Length\n",
       "0         1  421010378001037  No Access  2.117942e+06    8830.039023\n",
       "1         2  421019800001053  No Access  5.803100e+06    9418.832796\n",
       "2         3  421019800001164  No Access  5.994356e+05    9793.030362\n",
       "3         4  421010369002011  No Access  1.186508e+06    6529.555121\n",
       "4         5  421010170001005  No Access  2.291195e+06    7011.517275"
      ]
     },
     "execution_count": 20,
     "metadata": {},
     "output_type": "execute_result"
    }
   ],
   "source": [
    "wahf_df.head()"
   ]
  },
  {
   "cell_type": "markdown",
   "metadata": {},
   "source": [
    "the \"Access\" columns seemed most important to my data analysis so I chose to explore it further"
   ]
  },
  {
   "cell_type": "code",
   "execution_count": 21,
   "metadata": {},
   "outputs": [
    {
     "data": {
      "text/plain": [
       "count           18872\n",
       "unique              4\n",
       "top       High Access\n",
       "freq             8036\n",
       "Name: ACCESS_, dtype: object"
      ]
     },
     "execution_count": 21,
     "metadata": {},
     "output_type": "execute_result"
    }
   ],
   "source": [
    "wahf_df[\"ACCESS_\"].describe()"
   ]
  },
  {
   "cell_type": "code",
   "execution_count": 22,
   "metadata": {},
   "outputs": [
    {
     "data": {
      "text/plain": [
       "High Access        8036\n",
       "Low Access         4752\n",
       "No Access          4033\n",
       "Moderate Access    2051\n",
       "Name: ACCESS_, dtype: int64"
      ]
     },
     "execution_count": 22,
     "metadata": {},
     "output_type": "execute_result"
    }
   ],
   "source": [
    "wahf_df[\"ACCESS_\"].value_counts()"
   ]
  },
  {
   "cell_type": "markdown",
   "metadata": {},
   "source": [
    " * The most important statistic for my research is that 4033 geolocations have no access to healthy markets\n",
    " * It is important to note few locations have \"Moderate Access\" -- only 2051 out of 18872\n",
    " * The results are very polarized with most having either high or low/no access"
   ]
  },
  {
   "cell_type": "code",
   "execution_count": 23,
   "metadata": {},
   "outputs": [
    {
     "data": {
      "text/plain": [
       "Text(0, 0.5, 'number of geolocations')"
      ]
     },
     "execution_count": 23,
     "metadata": {},
     "output_type": "execute_result"
    },
    {
     "data": {
      "image/png": "[encoded data removed]",
      "text/plain": [
       "<Figure size 432x288 with 1 Axes>"
      ]
     },
     "metadata": {
      "needs_background": "light"
     },
     "output_type": "display_data"
    }
   ],
   "source": [
    "wahf_df[\"ACCESS_\"].value_counts().plot.bar()\n",
    "plt.xlabel(\"access level\")\n",
    "plt.ylabel(\"number of geolocations\")"
   ]
  },
  {
   "cell_type": "markdown",
   "metadata": {},
   "source": [
    "It is important to note that this access is by physical location, and not other factors such as affordability. Someone may live near a healthy market, but not be able to afford to buy food there."
   ]
  },
  {
   "cell_type": "code",
   "execution_count": 24,
   "metadata": {},
   "outputs": [
    {
     "data": {
      "text/plain": [
       "High Access        42.581602\n",
       "Low Access         25.180161\n",
       "No Access          21.370284\n",
       "Moderate Access    10.867953\n",
       "Name: ACCESS_, dtype: float64"
      ]
     },
     "execution_count": 24,
     "metadata": {},
     "output_type": "execute_result"
    }
   ],
   "source": [
    "access_percent = wahf_df['ACCESS_'].value_counts()  / wahf_df.shape[0] * 100\n",
    "access_percent"
   ]
  },
  {
   "cell_type": "markdown",
   "metadata": {},
   "source": [
    "With 21.37% of Philadelphia residents with No Access to healthy food it is clear that change needs to be made. We must come together as people, communities, organizations, and government to create institutional change that will make the lives of those around us better."
   ]
  }
 ],
 "metadata": {
  "kernelspec": {
   "display_name": "Python 3",
   "language": "python",
   "name": "python3"
  },
  "language_info": {
   "codemirror_mode": {
    "name": "ipython",
    "version": 3
   },
   "file_extension": ".py",
   "mimetype": "text/x-python",
   "name": "python",
   "nbconvert_exporter": "python",
   "pygments_lexer": "ipython3",
   "version": "3.7.3"
  }
 },
 "nbformat": 4,
 "nbformat_minor": 2
}
